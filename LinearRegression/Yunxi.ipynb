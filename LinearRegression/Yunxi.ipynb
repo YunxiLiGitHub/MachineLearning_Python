{
 "cells": [
  {
   "cell_type": "code",
   "execution_count": 2,
   "metadata": {
    "scrolled": true
   },
   "outputs": [
    {
     "name": "stdout",
     "output_type": "stream",
     "text": [
      "加载数据...\n",
      "\n"
     ]
    },
    {
     "data": {
      "image/png": "[encoded data removed]",
      "text/plain": [
       "<Figure size 432x288 with 1 Axes>"
      ]
     },
     "metadata": {
      "needs_background": "light"
     },
     "output_type": "display_data"
    },
    {
     "name": "stdout",
     "output_type": "stream",
     "text": [
      "\n",
      "执行梯度下降算法....\n",
      "\n",
      ". . . . . . . . . . . . . . . . . . . . . . . . . . . . . . . . . . . . . . . . . . . . . . . . . . . . . . . . . . . . . . . . . . . . . . . . . . . . . . . . . . . . . . . . . . . . . . . . . . . . . . . . . . . . . . . . . . . . . . . . . . . . . . . . . . . . . . . . . . . . . . . . . . . . . . . . . . . . . . . . . . . . . . . . . . . . . . . . . . . . . . . . . . . . . . . . . . . . . . . . . . . . . . . . . . . . . . . . . . . . . . . . . . . . . . . . . . . . . . . . . . . . . . . . . . . . . . . . . . . . . . . . . . . . . . . . . . . . . . . . . . . . . . . . . . . . . . . . . . . . . . . . . . . . . . . . . . . . . . . . . . . . . . . . . . . . . . . . . . . . . . . . . . . . . . . . . . . . . . . . . . . . . . . . . . . . . . . . . . . . . . . . . . . . . . . . . . . . . . . . "
     ]
    },
    {
     "data": {
      "image/png": "[encoded data removed]",
      "text/plain": [
       "<Figure size 432x288 with 1 Axes>"
      ]
     },
     "metadata": {
      "needs_background": "light"
     },
     "output_type": "display_data"
    }
   ],
   "source": [
    "#-*- coding: utf-8 -*-\n",
    "from __future__ import print_function\n",
    "import numpy as np\n",
    "from matplotlib import pyplot as plt\n",
    "from matplotlib.font_manager import FontProperties\n",
    "font = FontProperties(fname=r\"c:\\windows\\fonts\\simsun.ttc\", size=14)    # 解决windows环境下画图汉字乱码问题\n",
    "\n",
    "def linearRegression(alpha=0.01,num_iters=400):\n",
    "    print(u\"加载数据...\\n\")\n",
    "    \n",
    "    data = loadtxtAndcsv_data(\"data.txt\",\",\",np.float64)  #读取数据\n",
    "    X = data[:,0:-1]      # X对应0到倒数第2列                  \n",
    "    y = data[:,-1]        # y对应最后一列  \n",
    "    m = len(y)            # 总的数据条数\n",
    "    col = data.shape[1]      # data的列数\n",
    "    \n",
    "    X,mu,sigma = featureNormaliza(X)    # 归一化\n",
    "    plot_X1_X2(X)         # 画图看一下归一化效果\n",
    "    \n",
    "    X = np.hstack((np.ones((m,1)),X))    # 在X前加一列1\n",
    "    \n",
    "    print(u\"\\n执行梯度下降算法....\\n\")\n",
    "    \n",
    "    theta = np.zeros((col,1))\n",
    "    y = y.reshape(-1,1)   #将行向量转化为列\n",
    "    theta,J_history = gradientDescent(X, y, theta, alpha, num_iters)\n",
    "    \n",
    "    plotJ(J_history, num_iters)\n",
    "    \n",
    "    return mu,sigma,theta   #返回均值mu,标准差sigma,和学习的结果theta\n",
    "    \n",
    "   \n",
    "# 加载txt和csv文件\n",
    "def loadtxtAndcsv_data(fileName,split,dataType):\n",
    "    return np.loadtxt(fileName,delimiter=split,dtype=dataType)\n",
    "\n",
    "# 加载npy文件\n",
    "def loadnpy_data(fileName):\n",
    "    return np.load(fileName)\n",
    "\n",
    "# 归一化feature\n",
    "def featureNormaliza(X):\n",
    "    X_norm = np.array(X)            #将X转化为numpy数组对象，才可以进行矩阵的运算\n",
    "    #定义所需变量\n",
    "    mu = np.zeros((1,X.shape[1]))   \n",
    "    sigma = np.zeros((1,X.shape[1]))\n",
    "    \n",
    "    mu = np.mean(X_norm,0)          # 求每一列的平均值（0指定为列，1代表行）\n",
    "    sigma = np.std(X_norm,0)        # 求每一列的标准差\n",
    "    for i in range(X.shape[1]):     # 遍历列\n",
    "        X_norm[:,i] = (X_norm[:,i]-mu[i])/sigma[i]  # 归一化\n",
    "    \n",
    "    return X_norm,mu,sigma\n",
    "\n",
    "# 画二维图\n",
    "def plot_X1_X2(X):\n",
    "    plt.scatter(X[:,0],X[:,1])\n",
    "    plt.show()\n",
    "\n",
    "\n",
    "# 梯度下降算法\n",
    "def gradientDescent(X,y,theta,alpha,num_iters):\n",
    "    m = len(y)      \n",
    "    n = len(theta)\n",
    "    \n",
    "    temp = np.matrix(np.zeros((n,num_iters)))   # 暂存每次迭代计算的theta，转化为矩阵形式\n",
    "    \n",
    "    \n",
    "    J_history = np.zeros((num_iters,1)) #记录每次迭代计算的代价值\n",
    "    \n",
    "    for i in range(num_iters):  # 遍历迭代次数    \n",
    "        h = np.dot(X,theta)     # 计算内积，matrix可以直接乘\n",
    "        temp[:,i] = theta - ((alpha/m)*(np.dot(np.transpose(X),h-y)))   #梯度的计算\n",
    "        theta = temp[:,i]\n",
    "        J_history[i] = computerCost(X,y,theta)      #调用计算代价函数\n",
    "        print('.', end=' ')      \n",
    "    return theta,J_history  \n",
    "\n",
    "# 计算代价函数\n",
    "def computerCost(X,y,theta):\n",
    "    m = len(y)\n",
    "    J = 0\n",
    "    \n",
    "    J = (np.transpose(X*theta-y))*(X*theta-y)/(2*m) #计算代价J\n",
    "    return J\n",
    "\n",
    "# 画每次迭代代价的变化图\n",
    "def plotJ(J_history,num_iters):\n",
    "    x = np.arange(1,num_iters+1)\n",
    "    plt.plot(x,J_history)\n",
    "    plt.xlabel(u\"迭代次数\",fontproperties=font) # 注意指定字体，要不然出现乱码问题\n",
    "    plt.ylabel(u\"代价值\",fontproperties=font)\n",
    "    plt.title(u\"代价随迭代次数的变化\",fontproperties=font)\n",
    "    plt.show()\n",
    "\n",
    "# 测试linearRegression函数\n",
    "def testLinearRegression():\n",
    "    mu,sigma,theta = linearRegression(0.01,400)\n",
    "    #print u\"\\n计算的theta值为：\\n\",theta\n",
    "    #print u\"\\n预测结果为：%f\"%predict(mu, sigma, theta)\n",
    "    \n",
    "# 测试学习效果（预测）\n",
    "def predict(mu,sigma,theta):\n",
    "    result = 0\n",
    "    # 注意归一化\n",
    "    predict = np.array([1650,3])\n",
    "    norm_predict = (predict-mu)/sigma\n",
    "    final_predict = np.hstack((np.ones((1)),norm_predict))\n",
    "    \n",
    "    result = np.dot(final_predict,theta)    # 预测结果\n",
    "    return result\n",
    "    \n",
    "    \n",
    "if __name__ == \"__main__\":\n",
    "    testLinearRegression()"
   ]
  },
  {
   "cell_type": "code",
   "execution_count": 25,
   "metadata": {},
   "outputs": [],
   "source": [
    "from __future__ import print_function\n",
    "import numpy as np\n",
    "import matplotlib.pyplot as plt\n",
    "from scipy import optimize\n",
    "from matplotlib.font_manager import FontProperties\n",
    "font = FontProperties(fname=r\"c:\\windows\\fonts\\simsun.ttc\", size=14)    # 解决windows环境下画图汉字乱码问题"
   ]
  },
  {
   "cell_type": "code",
   "execution_count": 26,
   "metadata": {},
   "outputs": [],
   "source": [
    "    data = loadtxtAndcsv_data(\"data.txt\", \",\", np.float64) \n",
    "    X = data[:,0:-1]\n",
    "    y = data[:,-1]"
   ]
  },
  {
   "cell_type": "code",
   "execution_count": 27,
   "metadata": {},
   "outputs": [],
   "source": [
    "data = loadtxtAndcsv_data(\"data.txt\", \",\", np.float64) "
   ]
  },
  {
   "cell_type": "code",
   "execution_count": 28,
   "metadata": {},
   "outputs": [
    {
     "name": "stdout",
     "output_type": "stream",
     "text": [
      "[[2.10400e+03 3.00000e+00 3.99900e+05]\n",
      " [1.60000e+03 3.00000e+00 3.29900e+05]\n",
      " [2.40000e+03 3.00000e+00 3.69000e+05]\n",
      " [1.41600e+03 2.00000e+00 2.32000e+05]\n",
      " [3.00000e+03 4.00000e+00 5.39900e+05]\n",
      " [1.98500e+03 4.00000e+00 2.99900e+05]\n",
      " [1.53400e+03 3.00000e+00 3.14900e+05]\n",
      " [1.42700e+03 3.00000e+00 1.98999e+05]\n",
      " [1.38000e+03 3.00000e+00 2.12000e+05]\n",
      " [1.49400e+03 3.00000e+00 2.42500e+05]\n",
      " [1.94000e+03 4.00000e+00 2.39999e+05]\n",
      " [2.00000e+03 3.00000e+00 3.47000e+05]\n",
      " [1.89000e+03 3.00000e+00 3.29999e+05]\n",
      " [4.47800e+03 5.00000e+00 6.99900e+05]\n",
      " [1.26800e+03 3.00000e+00 2.59900e+05]\n",
      " [2.30000e+03 4.00000e+00 4.49900e+05]\n",
      " [1.32000e+03 2.00000e+00 2.99900e+05]\n",
      " [1.23600e+03 3.00000e+00 1.99900e+05]\n",
      " [2.60900e+03 4.00000e+00 4.99998e+05]\n",
      " [3.03100e+03 4.00000e+00 5.99000e+05]\n",
      " [1.76700e+03 3.00000e+00 2.52900e+05]\n",
      " [1.88800e+03 2.00000e+00 2.55000e+05]\n",
      " [1.60400e+03 3.00000e+00 2.42900e+05]\n",
      " [1.96200e+03 4.00000e+00 2.59900e+05]\n",
      " [3.89000e+03 3.00000e+00 5.73900e+05]\n",
      " [1.10000e+03 3.00000e+00 2.49900e+05]\n",
      " [1.45800e+03 3.00000e+00 4.64500e+05]\n",
      " [2.52600e+03 3.00000e+00 4.69000e+05]\n",
      " [2.20000e+03 3.00000e+00 4.75000e+05]\n",
      " [2.63700e+03 3.00000e+00 2.99900e+05]\n",
      " [1.83900e+03 2.00000e+00 3.49900e+05]\n",
      " [1.00000e+03 1.00000e+00 1.69900e+05]\n",
      " [2.04000e+03 4.00000e+00 3.14900e+05]\n",
      " [3.13700e+03 3.00000e+00 5.79900e+05]\n",
      " [1.81100e+03 4.00000e+00 2.85900e+05]\n",
      " [1.43700e+03 3.00000e+00 2.49900e+05]\n",
      " [1.23900e+03 3.00000e+00 2.29900e+05]\n",
      " [2.13200e+03 4.00000e+00 3.45000e+05]\n",
      " [4.21500e+03 4.00000e+00 5.49000e+05]\n",
      " [2.16200e+03 4.00000e+00 2.87000e+05]\n",
      " [1.66400e+03 2.00000e+00 3.68500e+05]\n",
      " [2.23800e+03 3.00000e+00 3.29900e+05]\n",
      " [2.56700e+03 4.00000e+00 3.14000e+05]\n",
      " [1.20000e+03 3.00000e+00 2.99000e+05]\n",
      " [8.52000e+02 2.00000e+00 1.79900e+05]\n",
      " [1.85200e+03 4.00000e+00 2.99900e+05]\n",
      " [1.20300e+03 3.00000e+00 2.39500e+05]]\n"
     ]
    }
   ],
   "source": [
    "print (data)"
   ]
  },
  {
   "cell_type": "code",
   "execution_count": 29,
   "metadata": {},
   "outputs": [
    {
     "data": {
      "text/plain": [
       "numpy.ndarray"
      ]
     },
     "execution_count": 29,
     "metadata": {},
     "output_type": "execute_result"
    }
   ],
   "source": [
    "type(data)"
   ]
  },
  {
   "cell_type": "code",
   "execution_count": 30,
   "metadata": {},
   "outputs": [],
   "source": [
    "X = data[:,0:-1]\n",
    "y = data[:,-1]\n"
   ]
  },
  {
   "cell_type": "code",
   "execution_count": 31,
   "metadata": {},
   "outputs": [
    {
     "name": "stdout",
     "output_type": "stream",
     "text": [
      "[399900. 329900. 369000. 232000. 539900. 299900. 314900. 198999. 212000.\n",
      " 242500. 239999. 347000. 329999. 699900. 259900. 449900. 299900. 199900.\n",
      " 499998. 599000. 252900. 255000. 242900. 259900. 573900. 249900. 464500.\n",
      " 469000. 475000. 299900. 349900. 169900. 314900. 579900. 285900. 249900.\n",
      " 229900. 345000. 549000. 287000. 368500. 329900. 314000. 299000. 179900.\n",
      " 299900. 239500.]\n"
     ]
    }
   ],
   "source": [
    "print (y)"
   ]
  },
  {
   "cell_type": "code",
   "execution_count": 32,
   "metadata": {},
   "outputs": [
    {
     "data": {
      "text/plain": [
       "numpy.ndarray"
      ]
     },
     "execution_count": 32,
     "metadata": {},
     "output_type": "execute_result"
    }
   ],
   "source": [
    "type(y)"
   ]
  },
  {
   "cell_type": "code",
   "execution_count": 33,
   "metadata": {},
   "outputs": [
    {
     "ename": "NameError",
     "evalue": "name 'plot_data' is not defined",
     "output_type": "error",
     "traceback": [
      "\u001b[1;31m---------------------------------------------------------------------------\u001b[0m",
      "\u001b[1;31mNameError\u001b[0m                                 Traceback (most recent call last)",
      "\u001b[1;32m<ipython-input-33-9c87f57c9c15>\u001b[0m in \u001b[0;36m<module>\u001b[1;34m()\u001b[0m\n\u001b[1;32m----> 1\u001b[1;33m \u001b[0mplot_data\u001b[0m\u001b[1;33m(\u001b[0m\u001b[0mX\u001b[0m\u001b[1;33m,\u001b[0m\u001b[0my\u001b[0m\u001b[1;33m)\u001b[0m\u001b[1;33m\u001b[0m\u001b[0m\n\u001b[0m",
      "\u001b[1;31mNameError\u001b[0m: name 'plot_data' is not defined"
     ]
    }
   ],
   "source": [
    "plot_data(X,y) "
   ]
  },
  {
   "cell_type": "code",
   "execution_count": 34,
   "metadata": {},
   "outputs": [
    {
     "data": {
      "image/png": "[encoded data removed]",
      "text/plain": [
       "<Figure size 1080x864 with 1 Axes>"
      ]
     },
     "metadata": {
      "needs_background": "light"
     },
     "output_type": "display_data"
    }
   ],
   "source": [
    "    pos = np.where(y==1)    #找到y==1的坐标位置\n",
    "    neg = np.where(y==0)    #找到y==0的坐标位置\n",
    "    #作图\n",
    "    plt.figure(figsize=(15,12))\n",
    "    plt.plot(X[pos,0],X[pos,1],'ro')        # red o\n",
    "    plt.plot(X[neg,0],X[neg,1],'bo')        # blue o\n",
    "    plt.title(u\"两个类别散点图\",fontproperties=font)\n",
    "    plt.show()"
   ]
  },
  {
   "cell_type": "code",
   "execution_count": 35,
   "metadata": {},
   "outputs": [
    {
     "name": "stdout",
     "output_type": "stream",
     "text": [
      "[2104.    3.]\n"
     ]
    }
   ],
   "source": [
    "print (X[0])"
   ]
  },
  {
   "cell_type": "code",
   "execution_count": 36,
   "metadata": {},
   "outputs": [
    {
     "name": "stdout",
     "output_type": "stream",
     "text": [
      "[[2.104e+03 3.000e+00]\n",
      " [1.600e+03 3.000e+00]\n",
      " [2.400e+03 3.000e+00]\n",
      " [1.416e+03 2.000e+00]\n",
      " [3.000e+03 4.000e+00]\n",
      " [1.985e+03 4.000e+00]\n",
      " [1.534e+03 3.000e+00]\n",
      " [1.427e+03 3.000e+00]\n",
      " [1.380e+03 3.000e+00]\n",
      " [1.494e+03 3.000e+00]\n",
      " [1.940e+03 4.000e+00]\n",
      " [2.000e+03 3.000e+00]\n",
      " [1.890e+03 3.000e+00]\n",
      " [4.478e+03 5.000e+00]\n",
      " [1.268e+03 3.000e+00]\n",
      " [2.300e+03 4.000e+00]\n",
      " [1.320e+03 2.000e+00]\n",
      " [1.236e+03 3.000e+00]\n",
      " [2.609e+03 4.000e+00]\n",
      " [3.031e+03 4.000e+00]\n",
      " [1.767e+03 3.000e+00]\n",
      " [1.888e+03 2.000e+00]\n",
      " [1.604e+03 3.000e+00]\n",
      " [1.962e+03 4.000e+00]\n",
      " [3.890e+03 3.000e+00]\n",
      " [1.100e+03 3.000e+00]\n",
      " [1.458e+03 3.000e+00]\n",
      " [2.526e+03 3.000e+00]\n",
      " [2.200e+03 3.000e+00]\n",
      " [2.637e+03 3.000e+00]\n",
      " [1.839e+03 2.000e+00]\n",
      " [1.000e+03 1.000e+00]\n",
      " [2.040e+03 4.000e+00]\n",
      " [3.137e+03 3.000e+00]\n",
      " [1.811e+03 4.000e+00]\n",
      " [1.437e+03 3.000e+00]\n",
      " [1.239e+03 3.000e+00]\n",
      " [2.132e+03 4.000e+00]\n",
      " [4.215e+03 4.000e+00]\n",
      " [2.162e+03 4.000e+00]\n",
      " [1.664e+03 2.000e+00]\n",
      " [2.238e+03 3.000e+00]\n",
      " [2.567e+03 4.000e+00]\n",
      " [1.200e+03 3.000e+00]\n",
      " [8.520e+02 2.000e+00]\n",
      " [1.852e+03 4.000e+00]\n",
      " [1.203e+03 3.000e+00]]\n"
     ]
    }
   ],
   "source": [
    "print (X)"
   ]
  },
  {
   "cell_type": "code",
   "execution_count": 37,
   "metadata": {},
   "outputs": [
    {
     "name": "stdout",
     "output_type": "stream",
     "text": [
      "2104.0\n"
     ]
    }
   ],
   "source": [
    "print (X[0][0])"
   ]
  },
  {
   "cell_type": "code",
   "execution_count": 38,
   "metadata": {},
   "outputs": [
    {
     "name": "stdout",
     "output_type": "stream",
     "text": [
      "[1 2 3]\n"
     ]
    }
   ],
   "source": [
    "import numpy as np \n",
    "a = np.array([1,2,3])  \n",
    "print (a)"
   ]
  },
  {
   "cell_type": "code",
   "execution_count": 39,
   "metadata": {},
   "outputs": [
    {
     "name": "stdout",
     "output_type": "stream",
     "text": [
      "[[1 2]\n",
      " [3 4]]\n"
     ]
    }
   ],
   "source": [
    "import numpy as np \n",
    "a = np.array([[1,  2],  [3,  4]])  \n",
    "print (a)"
   ]
  },
  {
   "cell_type": "code",
   "execution_count": 40,
   "metadata": {},
   "outputs": [
    {
     "name": "stdout",
     "output_type": "stream",
     "text": [
      "[1 2]\n"
     ]
    }
   ],
   "source": [
    "print (a[0])"
   ]
  },
  {
   "cell_type": "code",
   "execution_count": 41,
   "metadata": {},
   "outputs": [
    {
     "name": "stdout",
     "output_type": "stream",
     "text": [
      "[[[1 2]\n",
      "  [3 4]]\n",
      "\n",
      " [[5 6]\n",
      "  [7 8]]]\n"
     ]
    }
   ],
   "source": [
    "import numpy as np \n",
    "a = np.array([[[1,  2],  [3,  4]],[[5,  6],  [7,  8]]])  \n",
    "print (a)"
   ]
  },
  {
   "cell_type": "code",
   "execution_count": 42,
   "metadata": {},
   "outputs": [
    {
     "name": "stdout",
     "output_type": "stream",
     "text": [
      "[[1 2]\n",
      " [3 4]]\n"
     ]
    }
   ],
   "source": [
    "print (a[0])"
   ]
  },
  {
   "cell_type": "code",
   "execution_count": 43,
   "metadata": {},
   "outputs": [
    {
     "name": "stdout",
     "output_type": "stream",
     "text": [
      "[('age', 'i1')]\n"
     ]
    }
   ],
   "source": [
    "# 首先创建结构化数据类型\n",
    "import numpy as np\n",
    "dt = np.dtype([('age',np.int8)]) \n",
    "print(dt)"
   ]
  }
 ],
 "metadata": {
  "kernelspec": {
   "display_name": "Python 3",
   "language": "python",
   "name": "python3"
  },
  "language_info": {
   "codemirror_mode": {
    "name": "ipython",
    "version": 3
   },
   "file_extension": ".py",
   "mimetype": "text/x-python",
   "name": "python",
   "nbconvert_exporter": "python",
   "pygments_lexer": "ipython3",
   "version": "3.7.0"
  },
  "toc": {
   "base_numbering": 1,
   "nav_menu": {},
   "number_sections": true,
   "sideBar": true,
   "skip_h1_title": false,
   "title_cell": "Table of Contents",
   "title_sidebar": "Contents",
   "toc_cell": false,
   "toc_position": {},
   "toc_section_display": true,
   "toc_window_display": false
  }
 },
 "nbformat": 4,
 "nbformat_minor": 2
}
